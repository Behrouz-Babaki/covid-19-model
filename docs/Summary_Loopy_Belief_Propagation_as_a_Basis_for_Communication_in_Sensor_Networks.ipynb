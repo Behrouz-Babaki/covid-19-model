{
 "cells": [
  {
   "cell_type": "markdown",
   "metadata": {
    "colab_type": "text",
    "id": "WgYW31XuMr7T"
   },
   "source": [
    "# NOT FOR PUBLISHING: CONTAINS A LOT OF COPY-PASTE\n",
    "\n",
    "link: https://arxiv.org/ftp/arxiv/papers/1212/1212.2465.pdf"
   ]
  },
  {
   "cell_type": "markdown",
   "metadata": {
    "colab_type": "text",
    "id": "jGf_I2f2q81Q"
   },
   "source": [
    "# Loopy Belief Propagation as a Basis for Communication in Sensor Networks\n",
    "\n",
    "## Abstract\n",
    "\n",
    "Sensor networks are an exciting new kind\n",
    "of computer system. Consisting of a large\n",
    "number of tiny, cheap computational devices physically distributed in an environment, they gather and process data about the\n",
    "environment in real time. One of the central\n",
    "questions in sensor networks is what to do\n",
    "with the data, i.e. how to reason with it and\n",
    "how to communicate it. This paper argues\n",
    "that the lessons of the UAI community, in\n",
    "particular that one should produce and communicate beliefs rather than raw sensor values, are highly relevant to sensor networks.\n",
    "We contend that loopy belief propagation is\n",
    "particularly well suited to communicating beliefs in sensor networks, due to its compact\n",
    "implementation and distributed nature. **We\n",
    "investigate the ability of loopy belief propagation to function under the stressful conditions likely to prevail in sensor networks. Our\n",
    "experiments show that it performs well and\n",
    "degrades gracefully. It converges to appropriate beliefs even in highly asynchronous settings where some nodes communicate far less\n",
    "frequently than others; it continues to function if some nodes fail to participate in the\n",
    "propagation process; and it can track changes\n",
    "in the environment that occur while beliefs\n",
    "are propagating.** As a result, we believe that\n",
    "sensor networks present an important application opportunity for UAI. \n"
   ]
  },
  {
   "cell_type": "markdown",
   "metadata": {
    "colab_type": "text",
    "id": "jZjCDkFFrakl"
   },
   "source": [
    "## Question: is LBP well suited to the sensor network environment?\n",
    "\n",
    "### Sensor network environment: \n",
    "* Many devices distributed in an environment that gather data in real time\n",
    "* data processing in real time within\n",
    "the network; other data is shipped to a server\n",
    "for offline processing\n",
    "* devices can react\n",
    "online to the state of the environment. \n",
    "* sensor nodes gather data, processing nodes compute beliefs online. processing nodes examine a subset of sensor nodes and communicate with a small number of other processing nodes.\n",
    "* No information is passed back\n",
    "to the sensors.\n",
    "\n",
    "### Well suited: \n",
    "* at minimal cost and in a distributed fashion.\n",
    "* we would like an immediate online\n",
    "response to occur as soon as an [infection?] is strongly believed\n",
    "to be happening. \n",
    "\n",
    "\n",
    "## Hypothesis: (LBP) is an ideal computational and communication framework for sensor networks\n",
    "\n",
    "### challenges:\n",
    "* asynchronous algorithm\n",
    "* sensors have different communication rates \n",
    "* underlying domain exhibits uncertainty\n",
    "* sensors give us partial information \n",
    "* sensors might be noisy, biased, broken\n",
    "\n",
    "\n",
    "\n"
   ]
  },
  {
   "cell_type": "markdown",
   "metadata": {
    "colab_type": "text",
    "id": "MSDV_ugeG-Wr"
   },
   "source": [
    "## Methodology\n",
    "\n",
    "Sensor networks are modeled as graphical models. The LBP algorithm for inference is presented, and various experiments are run to test its robustness to asynchronous communication, node failure and changing environment"
   ]
  },
  {
   "cell_type": "markdown",
   "metadata": {
    "colab_type": "text",
    "id": "lD4CpCrYG7Ka"
   },
   "source": [
    "### Model sensor networks as graphical models\n",
    "* Each sensor individually provides a reading for a particular state variable at a particular point depending on the system state and the sensor properties\n",
    "* interaction between sensors is the result of high-level variables\n",
    "* processing nodes form beliefs about these high-level variables from the sensor readings, taking into account the possibility of sensor error\n",
    "* Each processing node will be responsible for a set of sensors and a small number of high-level variables.\n",
    "*  two processing nodes are neighbors if their high-level variables interact\n",
    "* **key assumption: the joint probability distribution over the states of\n",
    "all processing nodes can be decomposed into the product of pairwise interactions between adjacent processing nodes.**\n",
    "* Since the inter-processing-node network can\n",
    "be quite loopy, exact algorithms are infeasible. \n",
    "\n",
    "![local belief network](images/sensor_networks/local_BN.PNG)"
   ]
  },
  {
   "cell_type": "markdown",
   "metadata": {
    "colab_type": "text",
    "id": "EYUr0dsKG3nq"
   },
   "source": [
    "## LBP\n",
    "\n",
    "![lbp](images/sensor_networks/LBP.PNG)"
   ]
  },
  {
   "cell_type": "markdown",
   "metadata": {
    "colab_type": "text",
    "id": "yNWzkmZGJ5pH"
   },
   "source": [
    "## Experiments\n",
    "* experiments with 3 BNs: ALARM(37 nodes) and HAILFINDER(56 nodes) and a synthetic sensor network FIRESENSOR (680 nodes, modelling 100 identical sensor clusters connected in a 10x10 lattice) "
   ]
  },
  {
   "cell_type": "markdown",
   "metadata": {
    "colab_type": "text",
    "id": "KGrHa7MMGyDh"
   },
   "source": [
    "### Asynchronous behaviour\n",
    "* 0% to 20% of nodes assigned random values\n",
    "* experiments in\n",
    "which each node\n",
    "used a exponential random process to determine when\n",
    "to pass messages to its neighbors. In a typical experiment, half the nodes were 10 times more likely\n",
    "to propagate than the others. \n",
    "*  **in all\n",
    "three networks, LBP continues to perform well under\n",
    "asynchronous conditions. In particular, asynchronous\n",
    "LBP converged whenever the synchronous version did,\n",
    "and to the same beliefs.**\n",
    "* experiments for number of propagations required for convergence: synchronous, asynchronous with uniform propagation times, asynchronous with different propagation times.\n",
    "* **We found that in all cases,\n",
    "asynchronous belief propagation with different propagation rates converged to the correct beliefs whenever\n",
    "ordinary LBP did.**\n",
    "\n",
    "![convergence](images/sensor_networks/convergence.PNG)\n",
    "\n",
    "*  the uniform asynchronous LBP uses only\n",
    "2/3 as many propagations as we might expect\n",
    "*  by continuing to propagate, the fast-propagating nodes are \"working overtime\" and making up for some of the lack\n",
    "of propagation of the slow-propagating nodes.\n",
    "*  **the speed of convergence varies widely based on which nodes propagate\n",
    "often. Nodes that are centrally located and have large\n",
    "impact on the network also have a profound effect on\n",
    "inference speed. Identifying central nodes and applying resources to increase their speed would have a disproportionate positive effect on overall system performance.**\n",
    "*  For example, if the 10 most highly connected nodes (meaning the ones with the most parents and children) of the ALARM network are set to\n",
    "propagate three times as often as the rest of the nodes\n",
    "in the network, this distributed, asynchronous process\n",
    "converges in just about the same number of steps as\n",
    "the synchronous LBP algorithm.\n",
    "\n"
   ]
  },
  {
   "cell_type": "markdown",
   "metadata": {
    "colab_type": "text",
    "id": "GnWurbVdGp08"
   },
   "source": [
    "### Robustness to failure\n",
    "* Failure of\n",
    "sensor nodes are handled by the BROKEN variables\n",
    "*  failure of propagation nodes, which results\n",
    "in nodes ceasing to participate in the belief propagation process: they don't form beliefs and don't send messages\n",
    "to other nodes. \n",
    "* **LBP continues to function in the face of \"dead\" nodes\n",
    "and degrades gracefully as their numbers increase. The degradation does not\n",
    "spread in a significant way to neighboring nodes beyond the affected nodes.**\n",
    "* Network topology has a profound effect on the performance of loopy propagation under degraded conditions. **Redundancy is crucial.** As long as at least\n",
    "one alternate path for information flow exists, inference is remarkably resilient. \n",
    "* first experiment: randomly selected sensors, from 2 to 20 out of the 100, made them inoperable, compared beliefs of working nodes to the fully functioning network. We randomly assigned observations to 10% of the nodes, choosing from\n",
    "among the working ones. \n",
    "\n",
    "![failed nodes](images/sensor_networks/failed_sensor_clusters.PNG)\n",
    "\n",
    "* The affected nodes can be somewhat off the mark, but their\n",
    "beliefs still tend in the right direction. The average absolute belief error among the affected nodes remains almost constant as the number of dead sensors increases - right around 13%. \n",
    "* **The largest errors are found in nodes close to dead sensors and far\n",
    "from any observed evidence; the smallest are in those\n",
    "nodes strongly influenced by observations.**\n",
    "\n",
    "* second experiment: Instead of choosing nodes\n",
    "randomly, we removed one sensor at a time from the\n",
    "fifth row of the 10 x 10 network, so that the number of\n",
    "communication paths between the bottom and the top\n",
    "of the network steadily decreased.\n",
    "* Until we killed\n",
    "the eighth node, leaving only two paths, the system's\n",
    "performance did not differ significantly from the random case. Even then, the number of affected nodes\n",
    "was only marginally worse, by about 10%. Of course,\n",
    "once all ten nodes in a row fail, error becomes extreme. Only nodes whose beliefs are entirely determined by\n",
    "local observations reach correct beliefs.\n",
    "\n",
    "* **Thus individual messages between nodes in loopy propagation seem\n",
    "to encode an enormous amount of information about\n",
    "the state of large swaths of network - as long as a path\n",
    "exists, beliefs will flow.**\n",
    "\n"
   ]
  },
  {
   "cell_type": "markdown",
   "metadata": {
    "colab_type": "text",
    "id": "0tfYXNSzGib3"
   },
   "source": [
    "### Dynamic Behaviour\n",
    "\n",
    "* Experiments: varied the rate of environmental change as a function of propagation time. \n",
    "\n",
    "*  time step:  mean propagation interval\n",
    "for each node, using an exponential random propagation model with a uniform mean across all of the nodes. At each time step, every node has a small chance of\n",
    "making a fresh observation. \n",
    "\n",
    "* Every1/10th of a time step, we determined the number of nodes whose beliefs differ from what they would be if the network had enough time to converge fully with a given set of observations. \n",
    "\n",
    "*  **compare the beliefs to those\n",
    "that would be obtained with an \"instantaneous\" LBP,\n",
    "rather than the true correct beliefs.** This provides a\n",
    "measure of the error in the system due to slow convergence, as opposed to error due to the LBP approximation. Overall measure of performance:\n",
    "average of this error over different time points. \n",
    "\n",
    "* **Even when nodes make\n",
    "and change observations in the midst of loopy propagation's flurry of messages, a system's overall beliefs\n",
    "continue to converge to accurate values.**\n",
    "\n",
    "* example: FIRESENSOR converges fully at nearly every timestep if $p = 0.005$. 680 nodes means over 3 changes to the environment per timestep. Since this network\n",
    "ordinarily converges in 9 time steps with no environmental changes, about 30 such changes happen in the\n",
    "convergence time of the network. \n",
    "* **The\n",
    "network has very low error in steady state.** Even when\n",
    "environmental changes occur 10 times more rapidly,\n",
    "only about 20% of the network holds incorrect beliefs\n",
    "at any particular time step. \n",
    "\n",
    "* **after a short burn-in\n",
    "period, in which the beliefs converge from their initial\n",
    "random settings, the percentage of incorrect nodes remains fairly stable in steady state. We conclude that\n",
    "LBP performs well even as the environment changes\n",
    "rapidly. Furthermore, it remains stable as the\n",
    "speed of environmental change increases, with graceful\n",
    "degradation in performance**\n",
    "\n",
    "![failed nodes](images/sensor_networks/env_change.PNG)\n"
   ]
  },
  {
   "cell_type": "markdown",
   "metadata": {
    "colab_type": "text",
    "id": "svlY8VriGY-8"
   },
   "source": [
    "## Findings: \n",
    "* We show that LBP continues to perform well\n",
    "even in highly asynchronous systems with vastly different communication rates. \n",
    "*  Good sensor networks\n",
    "are designed with redundancy to allow for node failure. We show that LBP can exploit such redundancy\n",
    "to perform well even as nodes fail, and that it enjoys a\n",
    "graceful degradation property.\n",
    "* LBP continues to perform well\n",
    "even when we expect many environmental changes to\n",
    "occur in the time it takes beliefs to converge."
   ]
  }
 ],
 "metadata": {
  "colab": {
   "name": "Summary_Loopy_Belief_Propagation_as_a_Basis_for_Communication in_Sensor_Networks.ipynb",
   "provenance": [],
   "toc_visible": true
  },
  "kernelspec": {
   "display_name": "Python 3",
   "language": "python",
   "name": "python3"
  },
  "language_info": {
   "codemirror_mode": {
    "name": "ipython",
    "version": 3
   },
   "file_extension": ".py",
   "mimetype": "text/x-python",
   "name": "python",
   "nbconvert_exporter": "python",
   "pygments_lexer": "ipython3",
   "version": "3.7.5"
  }
 },
 "nbformat": 4,
 "nbformat_minor": 1
}
