{
 "cells": [
  {
   "cell_type": "code",
   "execution_count": 33,
   "metadata": {},
   "outputs": [],
   "source": [
    "import numpy as np\n",
    "import pandas as pd\n",
    "import matplotlib.pyplot as plt\n",
    "from scipy.spatial.distance import pdist, squareform\n",
    "import logging\n",
    "logger = logging.getLogger(__name__)\n",
    "\n",
    "STATES = [\"S\", \"I\", \"R\"]"
   ]
  },
  {
   "cell_type": "code",
   "execution_count": 44,
   "metadata": {},
   "outputs": [],
   "source": [
    "def get_dummies(states):\n",
    "    probas = np.zeros(states.shape + (3,))\n",
    "    for s in [0,1,2]:\n",
    "        probas[:,:,s] = (states==s)*1\n",
    "    assert np.all(probas.argmax(axis=2) == states)\n",
    "    return probas\n",
    "\n",
    "\n",
    "def get_infection_probas(states, transmissions):\n",
    "    \"\"\"\n",
    "    - states[i] = state of i\n",
    "    - transmissions = array/list of i, j, lambda_ij\n",
    "    - infection_probas[i]  = 1 - prod_{j: state==I} [1 - lambda_ij]\n",
    "    \"\"\"\n",
    "    infected = (states == 1)\n",
    "    N = len(states)\n",
    "    infection_probas = np.zeros(N)\n",
    "    for i in range(N):\n",
    "        rates = np.array([\n",
    "            rate for i0, j, rate in transmissions\n",
    "            if i0 == i and infected[j]\n",
    "        ])\n",
    "        infection_probas[i] = 1 - np.prod(1 - rates)\n",
    "    return infection_probas\n",
    "\n",
    "\n",
    "def propagate(current_states, infection_probas, recover_probas):\n",
    "    \"\"\"\n",
    "    - current_states[i] = state of i\n",
    "    - infection_probas[i]  = proba that i get infected (if susceptible)\n",
    "    - recover_probas[i] = proba that i recovers (if infected)\n",
    "    \"\"\"\n",
    "    next_states = np.zeros_like(current_states)\n",
    "    for i, state in enumerate(current_states):\n",
    "        if (state == 0):\n",
    "            infected = np.random.rand() < infection_probas[i]\n",
    "            next_states[i] = 1 if infected else 0\n",
    "        elif (state == 1):\n",
    "            recovered = np.random.rand() < recover_probas[i]\n",
    "            next_states[i] = 2 if recovered else 1\n",
    "        else:\n",
    "            next_states[i] = 2\n",
    "    return next_states\n",
    "\n",
    "\n",
    "class EpidemicModel():\n",
    "    def __init__(self, initial_states, x_pos, y_pos):\n",
    "        assert len(x_pos) == len(y_pos) == len(initial_states)\n",
    "        self.N = len(initial_states)\n",
    "        self.initial_states = initial_states\n",
    "        self.x_pos = x_pos\n",
    "        self.y_pos = y_pos\n",
    "\n",
    "    def time_evolution(self, recover_probas, transmissions, print_every=10):\n",
    "        \"\"\"Run the simulation where\n",
    "        - recover_probas[i] = mu_i time-independent\n",
    "        - transmissions[t] = list of t, i, j, lambda_ij(t)\n",
    "        - states[t, i] = state of i at time t\n",
    "        \"\"\"\n",
    "        # initialize states\n",
    "        T = len(transmissions)\n",
    "        states = np.empty((T + 1, self.N))\n",
    "        states[:] = np.nan\n",
    "        states[0] = self.initial_states\n",
    "        # iterate over time steps\n",
    "        for t in range(T):\n",
    "            if (t % print_every == 0):\n",
    "                print(f\"t = {t} / {T}\")\n",
    "            infection_probas = get_infection_probas(states[t], transmissions[t])\n",
    "            states[t+1] = propagate(states[t], infection_probas, recover_probas)\n",
    "        self.states = states\n",
    "        self.probas = get_dummies(states)\n",
    "\n",
    "    def plot(self, t):\n",
    "        fig, ax = plt.subplots(1, 1, figsize = (5,5))\n",
    "        for idx, state in enumerate(STATES):\n",
    "            ind = np.where(self.states[t] == idx)\n",
    "            ax.scatter(self.x_pos[ind], self.y_pos[ind], label=state)\n",
    "        ax.set(title=\"t = %d\" % t)\n",
    "        ax.legend()\n",
    "\n",
    "    def get_counts(self):\n",
    "        counts = {\n",
    "            state: (self.states == idx).sum(axis=1)\n",
    "            for idx, state in enumerate(STATES)\n",
    "        }\n",
    "        return pd.DataFrame(counts)\n",
    "\n",
    "class ProximityModel(EpidemicModel):\n",
    "    \"\"\"\n",
    "    Model:\n",
    "    - N = population\n",
    "    - mu = constant recovery proba\n",
    "    - lamd = constant transmission rate (if in contact)\n",
    "    - proba_contact = np.exp(-distance / scale)\n",
    "    - initial_states = random patient zero\n",
    "    - x_pos, y_pos = random uniform\n",
    "\n",
    "    You can also provide the initial_states, x_pos, y_pos or proba_contact.\n",
    "    \"\"\"\n",
    "    def __init__(self, N, scale, mu, lamb,\n",
    "    initial_states = None, x_pos = None, y_pos = None, proba_contact = None):\n",
    "        self.scale = scale\n",
    "        self.mu = mu\n",
    "        self.lamb = lamb\n",
    "        # initial states : patient zero infected\n",
    "        if initial_states is None:\n",
    "            patient_zero = np.random.randint(N)\n",
    "            initial_states = np.zeros(N)\n",
    "            initial_states[patient_zero] = 1\n",
    "        # positions\n",
    "        x_pos = np.sqrt(N)*np.random.rand(N) if x_pos is None else x_pos\n",
    "        y_pos = np.sqrt(N)*np.random.rand(N) if y_pos is None else y_pos\n",
    "        if proba_contact is None:\n",
    "            # proba of contact = np.exp(-distance / scale)\n",
    "            pos = np.array([x_pos, y_pos]).T\n",
    "            assert pos.shape == (N, 2)\n",
    "            distance = squareform(pdist(pos))\n",
    "            proba_contact = np.exp(-distance / scale)\n",
    "            np.fill_diagonal(proba_contact, False) # no contact with oneself\n",
    "        self.proba_contact = proba_contact\n",
    "        # expected number of contacts\n",
    "        self.n_contacts = proba_contact.sum()/N\n",
    "        # constant recovery proba\n",
    "        self.recover_probas = mu*np.ones(N)\n",
    "        super().__init__(initial_states, x_pos, y_pos)\n",
    "\n",
    "    def sample_contacts(self):\n",
    "        \"contacts[i,j] = if i and j in contact\"\n",
    "        contacts = np.random.rand(self.N, self.N) < self.proba_contact\n",
    "        return contacts\n",
    "\n",
    "    def sample_transmissions(self):\n",
    "        \"transmissions = list of t, i, j, lambda_ij\"\n",
    "        contacts = self.sample_contacts()\n",
    "        print(\"contacts\" , contacts)\n",
    "        i, j = np.where(contacts)\n",
    "        print(\"i:\", i,\"j:\", j)\n",
    "        # constant rate = lamb\n",
    "        rates = self.lamb * np.ones(len(i))\n",
    "        print(\"rates\", rates)\n",
    "        transmissions = list(zip(i, j, rates))\n",
    "        print(\"transmissions\", transmissions)\n",
    "        # sanity check\n",
    "        assert contacts.sum() == len(transmissions)\n",
    "        assert np.all(i != j)\n",
    "        return transmissions\n",
    "\n",
    "    def generate_transmissions(self, T):\n",
    "        self.transmissions = [self.sample_transmissions() for t in range(T)]\n",
    "\n",
    "    def run(self, T, print_every=10):\n",
    "        print(\"Generating transmissions\")\n",
    "        self.generate_transmissions(T)\n",
    "        print(\"Running simulation\")\n",
    "        self.time_evolution(\n",
    "            self.recover_probas, self.transmissions, print_every=print_every\n",
    "        )\n",
    "\n"
   ]
  },
  {
   "cell_type": "code",
   "execution_count": 45,
   "metadata": {},
   "outputs": [
    {
     "name": "stdout",
     "output_type": "stream",
     "text": [
      "expected number of contacts 2.6\n"
     ]
    }
   ],
   "source": [
    "model = ProximityModel(N=10, scale=1.2, mu=0.01, lamb=0.02)\n",
    "print(\"expected number of contacts %.1f\" % model.n_contacts)"
   ]
  },
  {
   "cell_type": "code",
   "execution_count": null,
   "metadata": {},
   "outputs": [],
   "source": [
    "model.run(500, print_every=100)"
   ]
  },
  {
   "cell_type": "code",
   "execution_count": null,
   "metadata": {},
   "outputs": [],
   "source": []
  },
  {
   "cell_type": "code",
   "execution_count": 108,
   "metadata": {},
   "outputs": [],
   "source": [
    "a = [{'infectiousness': 0, 'other_human_id': 62, 'human_id':99, 'timestep':1, 'i_infected': True, 'j_infected': False},{'infectiousness': 0, 'other_human_id': 62, 'human_id':99, 'timestep':1, 'i_infected': False, 'j_infected': False}]"
   ]
  },
  {
   "cell_type": "code",
   "execution_count": null,
   "metadata": {},
   "outputs": [],
   "source": [
    "def get"
   ]
  },
  {
   "cell_type": "code",
   "execution_count": null,
   "metadata": {},
   "outputs": [],
   "source": [
    "def time_evolution(self, recover_probas, transmissions, print_every=10):\n",
    "        \"\"\"Run the simulation where\n",
    "        - recover_probas[i] = mu_i time-independent\n",
    "        - transmissions[t] = list of t, i, j, lambda_ij(t)\n",
    "        - states[t, i] = state of i at time t\n",
    "        \"\"\"\n",
    "        # initialize states\n",
    "        T = len(transmissions)\n",
    "        states = np.empty((T + 1, self.N))\n",
    "        states[:] = np.nan\n",
    "        states[0] = self.initial_states\n",
    "        # iterate over time steps\n",
    "        for t in range(T):\n",
    "            if (t % print_every == 0):\n",
    "                print(f\"t = {t} / {T}\")\n",
    "            infection_probas = get_infection_probas(states[t], transmissions[t])\n",
    "            states[t+1] = propagate(states[t], infection_probas, recover_probas)\n",
    "        self.states = states\n",
    "        self.probas = get_dummies(states)"
   ]
  },
  {
   "cell_type": "code",
   "execution_count": null,
   "metadata": {},
   "outputs": [],
   "source": []
  },
  {
   "cell_type": "code",
   "execution_count": null,
   "metadata": {},
   "outputs": [],
   "source": [
    "model.run(500, print_every=100)"
   ]
  },
  {
   "cell_type": "code",
   "execution_count": 82,
   "metadata": {},
   "outputs": [],
   "source": [
    "import pickle\n",
    "data = pickle.load(open(\"./data.pkl\", 'rb'))"
   ]
  },
  {
   "cell_type": "code",
   "execution_count": 83,
   "metadata": {},
   "outputs": [],
   "source": [
    "import datetime"
   ]
  },
  {
   "cell_type": "code",
   "execution_count": null,
   "metadata": {},
   "outputs": [],
   "source": []
  },
  {
   "cell_type": "code",
   "execution_count": 104,
   "metadata": {},
   "outputs": [],
   "source": [
    "def time_in_range(start, end, xs,xe):\n",
    "    #Return true if x is in the range [start, end]\n",
    "    if start <= end:\n",
    "        return start<= xs and xe <= end\n",
    "    else:\n",
    "        return start<= xs or xe <= end\n",
    "\n",
    "\n",
    "\n",
    "def time_slice(simulationls):\n",
    "    # Observing nodes for 1 day over time-granuality(1 hour)\n",
    "    # The date-time of encounter + duration should fall in the time slice\n",
    "    time_slice_start = datetime.datetime(2020,3,16,0,0,0)\n",
    "    time_slice_end = datetime.datetime(2020,3,17,0,0,0)\n",
    "    \n",
    "    dlist=[]\n",
    "    interactions={}\n",
    "    while(time_slice_start <= time_slice_end):\n",
    "        print(time_slice_start)\n",
    "        for d in simulationls:\n",
    "            try: \n",
    "                #The nature of encounter should be \"encounter\" \n",
    "                # The date-time of enco'unter + duration should fall in the time slice\n",
    "                time_interact_start = d['time']\n",
    "                time_interact_end = time_interact_start + datetime.timedelta(seconds=d['payload']['observed']['duration'])\n",
    "\n",
    "                if(time_in_range(time_slice_start,time_slice_start+datetime.timedelta(hours=1) ,time_interact_start,time_interact_end)):\n",
    "\n",
    "                        interactions['infectiousness']=d['payload']['unobserved']['human1']['infectiousness']\n",
    "                        interactions['human_id']=d['human_id']\n",
    "                        interactions['other_human_id']=d['payload']['unobserved']['human2_id']\n",
    "                        interactions['datetime']=d['time']\n",
    "                        dlist.append(interactions)\n",
    "                        print(dlist)\n",
    "                time_slice_start+=datetime.timedelta(hours=1)\n",
    "            except:\n",
    "                pass"
   ]
  },
  {
   "cell_type": "code",
   "execution_count": null,
   "metadata": {},
   "outputs": [],
   "source": []
  },
  {
   "cell_type": "code",
   "execution_count": null,
   "metadata": {},
   "outputs": [],
   "source": []
  },
  {
   "cell_type": "code",
   "execution_count": 103,
   "metadata": {},
   "outputs": [
    {
     "name": "stdout",
     "output_type": "stream",
     "text": [
      "2020-03-16 00:00:00\n"
     ]
    }
   ],
   "source": [
    "time_slice(data)"
   ]
  },
  {
   "cell_type": "code",
   "execution_count": 57,
   "metadata": {},
   "outputs": [
    {
     "ename": "TypeError",
     "evalue": "list indices must be integers or slices, not str",
     "output_type": "error",
     "traceback": [
      "\u001b[0;31m---------------------------------------------------------------------------\u001b[0m",
      "\u001b[0;31mTypeError\u001b[0m                                 Traceback (most recent call last)",
      "\u001b[0;32m<ipython-input-57-6e61dd0bc7e3>\u001b[0m in \u001b[0;36m<module>\u001b[0;34m\u001b[0m\n\u001b[0;32m----> 1\u001b[0;31m \u001b[0mdata\u001b[0m\u001b[0;34m[\u001b[0m\u001b[0;34m'payload'\u001b[0m\u001b[0;34m]\u001b[0m\u001b[0;34m[\u001b[0m\u001b[0;34m'observed'\u001b[0m\u001b[0;34m]\u001b[0m\u001b[0;34m[\u001b[0m\u001b[0;34m'location_type'\u001b[0m\u001b[0;34m]\u001b[0m\u001b[0;34m[\u001b[0m\u001b[0;34m'duration'\u001b[0m\u001b[0;34m]\u001b[0m\u001b[0;34m\u001b[0m\u001b[0;34m\u001b[0m\u001b[0m\n\u001b[0m",
      "\u001b[0;31mTypeError\u001b[0m: list indices must be integers or slices, not str"
     ]
    }
   ],
   "source": [
    "data['payload']['observed']['location_type']['duration']"
   ]
  },
  {
   "cell_type": "code",
   "execution_count": 107,
   "metadata": {},
   "outputs": [],
   "source": [
    "a = [{'infectiousness': 0, 'other_human_id': 62, 'human_id':99, 'timestep':1, 'i_infected': True, 'j_infected': False},{'infectiousness': 0, 'other_human_id': 62, 'human_id':99, 'timestep':1, 'i_infected': False, 'j_infected': False}]"
   ]
  },
  {
   "cell_type": "code",
   "execution_count": null,
   "metadata": {},
   "outputs": [],
   "source": []
  },
  {
   "cell_type": "code",
   "execution_count": null,
   "metadata": {},
   "outputs": [],
   "source": []
  },
  {
   "cell_type": "code",
   "execution_count": 119,
   "metadata": {},
   "outputs": [],
   "source": [
    "import pickle"
   ]
  },
  {
   "cell_type": "code",
   "execution_count": 120,
   "metadata": {},
   "outputs": [
    {
     "ename": "FileNotFoundError",
     "evalue": "[Errno 2] No such file or directory: './data.pkl'",
     "output_type": "error",
     "traceback": [
      "\u001b[0;31m---------------------------------------------------------------------------\u001b[0m",
      "\u001b[0;31mFileNotFoundError\u001b[0m                         Traceback (most recent call last)",
      "\u001b[0;32m<ipython-input-120-122fd0b30fdd>\u001b[0m in \u001b[0;36m<module>\u001b[0;34m\u001b[0m\n\u001b[0;32m----> 1\u001b[0;31m \u001b[0mdata\u001b[0m \u001b[0;34m=\u001b[0m \u001b[0mpickle\u001b[0m\u001b[0;34m.\u001b[0m\u001b[0mload\u001b[0m\u001b[0;34m(\u001b[0m\u001b[0mopen\u001b[0m\u001b[0;34m(\u001b[0m\u001b[0;34m\"./data.pkl\"\u001b[0m\u001b[0;34m,\u001b[0m\u001b[0;34m'rb'\u001b[0m\u001b[0;34m)\u001b[0m\u001b[0;34m)\u001b[0m\u001b[0;34m\u001b[0m\u001b[0;34m\u001b[0m\u001b[0m\n\u001b[0m",
      "\u001b[0;31mFileNotFoundError\u001b[0m: [Errno 2] No such file or directory: './data.pkl'"
     ]
    }
   ],
   "source": [
    "data = pickle.load(open(\"./data.pkl\",'rb'))"
   ]
  },
  {
   "cell_type": "code",
   "execution_count": null,
   "metadata": {},
   "outputs": [],
   "source": []
  }
 ],
 "metadata": {
  "kernelspec": {
   "display_name": "Python 3",
   "language": "python",
   "name": "python3"
  },
  "language_info": {
   "codemirror_mode": {
    "name": "ipython",
    "version": 3
   },
   "file_extension": ".py",
   "mimetype": "text/x-python",
   "name": "python",
   "nbconvert_exporter": "python",
   "pygments_lexer": "ipython3",
   "version": "3.7.4"
  }
 },
 "nbformat": 4,
 "nbformat_minor": 4
}
